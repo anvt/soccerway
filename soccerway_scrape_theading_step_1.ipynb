{
 "cells": [
  {
   "cell_type": "code",
   "execution_count": 5,
   "metadata": {
    "collapsed": true,
    "scrolled": true
   },
   "outputs": [],
   "source": [
    "import requests\n",
    "import time\n",
    "from soccerway import *\n",
    "import pickle\n",
    "import datetime\n",
    "import dateutil\n",
    "import sys"
   ]
  },
  {
   "cell_type": "code",
   "execution_count": 6,
   "metadata": {
    "collapsed": true
   },
   "outputs": [],
   "source": [
    "from threading import Thread\n",
    "from Queue import Queue"
   ]
  },
  {
   "cell_type": "code",
   "execution_count": 7,
   "metadata": {
    "collapsed": true
   },
   "outputs": [],
   "source": [
    "sys.setrecursionlimit(10000)"
   ]
  },
  {
   "cell_type": "markdown",
   "metadata": {},
   "source": [
    "# download the data by date"
   ]
  },
  {
   "cell_type": "raw",
   "metadata": {},
   "source": [
    "%%time\n",
    "# date = (start_date+datetime.timedelta(days=i)).date().__str__()\n",
    "# date = datetime.datetime(2004,12,1)\n",
    "\n",
    "def data_downloader_and_save(dates):\n",
    "    for date in dates:\n",
    "        raw = get_data_(date)\n",
    "        if raw is None:\n",
    "            print('No data!!: ',date)\n",
    "            continue\n",
    "        else:\n",
    "            print(date)\n",
    "    #         data.append(raw)\n",
    "            with open('./pickels/'+date+'.pkl', 'wb') as output:\n",
    "                pickle.dump(raw, output)\n",
    "start_date = datetime.datetime(2005,4,29)\n",
    "dates = [(start_date+datetime.timedelta(days=i)).date().__str__() for i in range(5)]\n",
    "data_downloader_and_save(dates[:])"
   ]
  },
  {
   "cell_type": "code",
   "execution_count": 8,
   "metadata": {
    "collapsed": true
   },
   "outputs": [],
   "source": [
    "def scrapper_worker(q):\n",
    "    while not q.empty():\n",
    "        date = q.get()\n",
    "#         print(date)\n",
    "        raw = get_data_(date)\n",
    "        if raw is None:\n",
    "            print('No data!!: ',date)\n",
    "            continue\n",
    "        else:\n",
    "            print(date)\n",
    "    #         data.append(raw)\n",
    "            with open('./pickels/'+date+'.pkl', 'wb') as output:\n",
    "                pickle.dump(raw, output)\n",
    "        q.task_done()"
   ]
  },
  {
   "cell_type": "code",
   "execution_count": 9,
   "metadata": {
    "collapsed": true
   },
   "outputs": [],
   "source": [
    "q = Queue()\n",
    "start_date = datetime.datetime(2001,12,22)\n",
    "dates = [(start_date+datetime.timedelta(days=i)).date().__str__() for i in range(1)]\n",
    "map(q.put,dates);"
   ]
  },
  {
   "cell_type": "code",
   "execution_count": 10,
   "metadata": {},
   "outputs": [
    {
     "name": "stdout",
     "output_type": "stream",
     "text": [
      "2001-12-22\n"
     ]
    }
   ],
   "source": [
    "for i in range(1):\n",
    "    t = Thread(target=scrapper_worker, args=(q,))\n",
    "    t.start()\n",
    "q.join()"
   ]
  },
  {
   "cell_type": "code",
   "execution_count": null,
   "metadata": {
    "collapsed": true
   },
   "outputs": [],
   "source": []
  }
 ],
 "metadata": {
  "kernelspec": {
   "display_name": "Python 2",
   "language": "python",
   "name": "python2"
  },
  "language_info": {
   "codemirror_mode": {
    "name": "ipython",
    "version": 2
   },
   "file_extension": ".py",
   "mimetype": "text/x-python",
   "name": "python",
   "nbconvert_exporter": "python",
   "pygments_lexer": "ipython2",
   "version": "2.7.12"
  }
 },
 "nbformat": 4,
 "nbformat_minor": 1
}
