{
 "cells": [
  {
   "cell_type": "code",
   "execution_count": 1,
   "metadata": {
    "scrolled": true
   },
   "outputs": [],
   "source": [
    "import requests\n",
    "import time\n",
    "from soccerway import *\n",
    "import pickle\n",
    "import datetime\n",
    "import dateutil\n",
    "import sys"
   ]
  },
  {
   "cell_type": "code",
   "execution_count": 2,
   "metadata": {
    "collapsed": true
   },
   "outputs": [],
   "source": [
    "from threading import Thread\n",
    "from Queue import Queue"
   ]
  },
  {
   "cell_type": "code",
   "execution_count": 3,
   "metadata": {
    "collapsed": true
   },
   "outputs": [],
   "source": [
    "sys.setrecursionlimit(10000)"
   ]
  },
  {
   "cell_type": "markdown",
   "metadata": {},
   "source": [
    "# download the data by date"
   ]
  },
  {
   "cell_type": "code",
   "execution_count": 5,
   "metadata": {
    "collapsed": true
   },
   "outputs": [],
   "source": [
    "data_file = '/Users/georgepamfilis/Dropbox/Scrapping/soccerway/pickle/'"
   ]
  },
  {
   "cell_type": "code",
   "execution_count": 6,
   "metadata": {},
   "outputs": [
    {
     "name": "stdout",
     "output_type": "stream",
     "text": [
      "2000-01-01\n",
      "2000-01-02\n",
      "2000-01-03\n",
      "2000-01-04\n",
      "2000-01-05\n",
      "2000-01-06\n",
      "2000-01-07\n",
      "2000-01-08\n",
      "2000-01-09\n",
      "2000-01-10\n",
      "CPU times: user 4.35 s, sys: 68.4 ms, total: 4.41 s\n",
      "Wall time: 1min 10s\n"
     ]
    }
   ],
   "source": [
    "%%time\n",
    "# date = (start_date+datetime.timedelta(days=i)).date().__str__()\n",
    "# date = datetime.datetime(2004,12,1)\n",
    "\n",
    "def data_downloader_and_save(dates):\n",
    "    for date in dates:\n",
    "        raw = get_data_(date)\n",
    "        if raw is None:\n",
    "            print('No data!!: ',date)\n",
    "            continue\n",
    "        else:\n",
    "            print(date)\n",
    "    #         data.append(raw)\n",
    "            with open(data_file+date+'.pkl', 'wb') as output:\n",
    "                pickle.dump(raw, output)\n",
    "start_date = datetime.datetime(2000,1,1)\n",
    "dates = [(start_date+datetime.timedelta(days=i)).date().__str__() for i in range(10)]\n",
    "data_downloader_and_save(dates[:])"
   ]
  },
  {
   "cell_type": "raw",
   "metadata": {
    "collapsed": true
   },
   "source": [
    "def scrapper_worker(q):\n",
    "    while not q.empty():\n",
    "        date = q.get()\n",
    "#         print(date)\n",
    "        raw = get_data_(date)\n",
    "        if raw is None:\n",
    "            print('No data!!: ',date)\n",
    "            continue\n",
    "        else:\n",
    "            print(date)\n",
    "    #         data.append(raw)\n",
    "            with open('/Users/georgepamfilis/Dropbox/Scrapping/soccerway/pickle/'+date+'.pkl', 'wb') as output:\n",
    "                pickle.dump(raw, output)\n",
    "        q.task_done()"
   ]
  },
  {
   "cell_type": "raw",
   "metadata": {
    "collapsed": true
   },
   "source": [
    "q = Queue()\n",
    "start_date = datetime.datetime(2000,1,1)\n",
    "dates = [(start_date+datetime.timedelta(days=i)).date().__str__() for i in range(100)]\n",
    "map(q.put,dates);"
   ]
  },
  {
   "cell_type": "raw",
   "metadata": {},
   "source": [
    "%%time\n",
    "for i in range(5):\n",
    "    t = Thread(target=scrapper_worker, args=(q,))\n",
    "    t.start()\n",
    "q.join()"
   ]
  },
  {
   "cell_type": "code",
   "execution_count": null,
   "metadata": {
    "collapsed": true
   },
   "outputs": [],
   "source": []
  }
 ],
 "metadata": {
  "kernelspec": {
   "display_name": "Python 2",
   "language": "python",
   "name": "python2"
  },
  "language_info": {
   "codemirror_mode": {
    "name": "ipython",
    "version": 2
   },
   "file_extension": ".py",
   "mimetype": "text/x-python",
   "name": "python",
   "nbconvert_exporter": "python",
   "pygments_lexer": "ipython2",
   "version": "2.7.5"
  }
 },
 "nbformat": 4,
 "nbformat_minor": 1
}
