{
 "cells": [
  {
   "cell_type": "code",
   "execution_count": 2,
   "metadata": {
    "collapsed": true,
    "scrolled": true
   },
   "outputs": [],
   "source": [
    "import json\n",
    "import pickle\n",
    "import sys\n",
    "import os\n",
    "from soccerway import parse_matches_v2"
   ]
  },
  {
   "cell_type": "code",
   "execution_count": 3,
   "metadata": {
    "collapsed": true
   },
   "outputs": [],
   "source": [
    "sys.setrecursionlimit(10000)"
   ]
  },
  {
   "cell_type": "code",
   "execution_count": 4,
   "metadata": {
    "collapsed": true
   },
   "outputs": [],
   "source": [
    "files = os.listdir('./pickels/')"
   ]
  },
  {
   "cell_type": "code",
   "execution_count": 5,
   "metadata": {},
   "outputs": [
    {
     "name": "stdout",
     "output_type": "stream",
     "text": [
      "2001-12-22.pkl\n"
     ]
    }
   ],
   "source": [
    "for f in files:\n",
    "    print(f)\n",
    "    try:\n",
    "        with open(\"./pickels/\"+f, \"rb\") as input_file:\n",
    "            e = pickle.load(input_file)\n",
    "    except Exception as e:\n",
    "        print(e)\n",
    "        continue\n",
    "    parsed = []\n",
    "    for k in e.keys():\n",
    "        parsed.append(parse_matches_v2(e[k]))\n",
    "    \n",
    "    data = dict(zip(e.keys(),parsed))\n",
    "    \n",
    "    with open('./json/'+f[:-4]+'.json', 'wb') as output:\n",
    "        json.dump(data, output)\n",
    "    \n",
    "#     try:\n",
    "#         os.remove('./pickels//'+f)\n",
    "#     except Exception as e:\n",
    "#         print(e)\n",
    "#         pass"
   ]
  },
  {
   "cell_type": "code",
   "execution_count": null,
   "metadata": {
    "collapsed": true
   },
   "outputs": [],
   "source": []
  }
 ],
 "metadata": {
  "kernelspec": {
   "display_name": "Python 2",
   "language": "python",
   "name": "python2"
  },
  "language_info": {
   "codemirror_mode": {
    "name": "ipython",
    "version": 2
   },
   "file_extension": ".py",
   "mimetype": "text/x-python",
   "name": "python",
   "nbconvert_exporter": "python",
   "pygments_lexer": "ipython2",
   "version": "2.7.12"
  }
 },
 "nbformat": 4,
 "nbformat_minor": 1
}
