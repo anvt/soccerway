{
 "cells": [
  {
   "cell_type": "code",
   "execution_count": 1,
   "metadata": {
    "scrolled": true
   },
   "outputs": [],
   "source": [
    "import requests\n",
    "import time\n",
    "from bs4 import BeautifulSoup\n",
    "from soccerway import *\n",
    "import json\n",
    "import pickle\n",
    "import datetime\n",
    "import dateutil\n",
    "import sys"
   ]
  },
  {
   "cell_type": "code",
   "execution_count": 2,
   "metadata": {},
   "outputs": [],
   "source": [
    "sys.setrecursionlimit(10000)"
   ]
  },
  {
   "cell_type": "markdown",
   "metadata": {},
   "source": [
    "# download the data by date"
   ]
  },
  {
   "cell_type": "raw",
   "metadata": {},
   "source": [
    "start_date = datetime.datetime(2005,5,15)\n",
    "data  = []\n",
    "for i in range(1000):\n",
    "    date = (start_date+datetime.timedelta(days=i)).date().__str__()\n",
    "#     if i%10==0:\n",
    "    raw = get_data_(date)\n",
    "    if raw is None:\n",
    "        print(date)\n",
    "        print('No data!!: ',date)\n",
    "        pass\n",
    "    else:\n",
    "        print(date)\n",
    "        data.append(raw)\n",
    "        with open('./pickels/'+date+'.pkl', 'wb') as output:\n",
    "            pickle.dump(raw, output)"
   ]
  },
  {
   "cell_type": "code",
   "execution_count": null,
   "metadata": {
    "collapsed": true
   },
   "outputs": [],
   "source": []
  }
 ],
 "metadata": {
  "kernelspec": {
   "display_name": "Python 2",
   "language": "python",
   "name": "python2"
  },
  "language_info": {
   "codemirror_mode": {
    "name": "ipython",
    "version": 2
   },
   "file_extension": ".py",
   "mimetype": "text/x-python",
   "name": "python",
   "nbconvert_exporter": "python",
   "pygments_lexer": "ipython2",
   "version": "2.7.12"
  }
 },
 "nbformat": 4,
 "nbformat_minor": 1
}
