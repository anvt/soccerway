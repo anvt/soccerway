{
 "cells": [
  {
   "cell_type": "code",
   "execution_count": 2,
   "metadata": {
    "collapsed": true,
    "deletable": true,
    "editable": true
   },
   "outputs": [],
   "source": [
    "import requests"
   ]
  },
  {
   "cell_type": "code",
   "execution_count": 3,
   "metadata": {
    "collapsed": true,
    "deletable": true,
    "editable": true
   },
   "outputs": [],
   "source": [
    "# http://praktoreio.pamestoixima.gr/web/services/rs/iFlexBetting/games/15104/0/nevId.json?fullMkts=true&nevIds=36876&locale=gr&brandId=defaultBrand&channelId=0"
   ]
  },
  {
   "cell_type": "raw",
   "metadata": {
    "deletable": true,
    "editable": true
   },
   "source": [
    "import datetime\n",
    "print(\n",
    "    datetime.datetime.fromtimestamp(\n",
    "        int(\"14403297\")\n",
    "    ).strftime('%Y-%m-%d')\n",
    ")"
   ]
  },
  {
   "cell_type": "code",
   "execution_count": 4,
   "metadata": {
    "collapsed": false,
    "deletable": true,
    "editable": true
   },
   "outputs": [
    {
     "name": "stdout",
     "output_type": "stream",
     "text": [
      "204\n"
     ]
    }
   ],
   "source": [
    "res = requests.get(\"http://praktoreio.pamestoixima.gr/web/services/rs/iFlexBetting/retail/\" +\\\n",
    "                   \"games/15104/0.json?shortTourn=true&startDrawNumber=554&endDrawNumber=555&sportId=s-441&marketIds=0&marketIds=0A&marketIds=1&marketIds=69&marketIds=68&marketIds=20&marketIds=21&marketIds=8&locale=gr&brandId=defaultBrand&channelId=0\")\n",
    "print(res.status_code)"
   ]
  },
  {
   "cell_type": "code",
   "execution_count": 5,
   "metadata": {
    "collapsed": true,
    "deletable": true,
    "editable": true
   },
   "outputs": [],
   "source": [
    "url = \"http://praktoreio.pamestoixima.gr/el/web/guest/retail-betting#r/700-700\""
   ]
  },
  {
   "cell_type": "code",
   "execution_count": 6,
   "metadata": {
    "collapsed": true,
    "deletable": true,
    "editable": true
   },
   "outputs": [],
   "source": [
    "a = \"http://praktoreio.pamestoixima.gr/web/services/rs/iFlexBetting/retail/games/15104/0.json?shortTourn=true&\"+\\\n",
    "\"startDrawNumber=700&endDrawNumber=700&sportId=s-441&marketIds=0&marketIds=0A&marketIds=1&marketIds=69&marketIds=68&marketIds=20&marketIds=21&marketIds=8&locale=gr&brandId=defaultBrand&channelId=0\""
   ]
  },
  {
   "cell_type": "code",
   "execution_count": 7,
   "metadata": {
    "collapsed": false,
    "deletable": true,
    "editable": true
   },
   "outputs": [
    {
     "data": {
      "text/plain": [
       "200"
      ]
     },
     "execution_count": 7,
     "metadata": {},
     "output_type": "execute_result"
    }
   ],
   "source": [
    "res2 = requests.get(a)\n",
    "res2.status_code"
   ]
  },
  {
   "cell_type": "code",
   "execution_count": 8,
   "metadata": {
    "collapsed": false,
    "deletable": true,
    "editable": true
   },
   "outputs": [],
   "source": [
    "json_data = res2.json()"
   ]
  },
  {
   "cell_type": "code",
   "execution_count": 44,
   "metadata": {
    "collapsed": false,
    "deletable": true,
    "editable": true
   },
   "outputs": [
    {
     "name": "stdout",
     "output_type": "stream",
     "text": [
      "0\n",
      "ΚΟΛ1\n",
      "1\n",
      "ΑΡΧΕΝΤΙΝΟΣ ΤΖΟΥΝ.\n",
      "2\n",
      "ΚΟΣΤΑ Ρ\n",
      "3\n",
      "ΒΡΑΖΙΛΙΑ 1Η\n",
      "4\n",
      "ΒΡΑΖΙΛΙΑ 1Η\n",
      "5\n",
      "ΑΤΛΕΤΙΚΟ ΟΥΙΛΑ\n",
      "6\n",
      "ΜΟΝΤΡΕΑΛ ΙΜΠΑΚΤ\n",
      "7\n",
      "ΤΟΡΟΝΤΟ\n",
      "8\n",
      "ΝΕΑ ΥΟΡΚΗ\n",
      "9\n",
      "ΡΙΤΣΜΟΝΤ ΚΙΚΕΡΣ\n",
      "10\n",
      "ΔΙΕΘΝΕΙΣ ΔΙΟΡΓΑΝΩΣΕΙΣ\n",
      "11\n",
      "ΔΙΕΘΝΕΣ ΠΡΩΤΑΘΛΗΜΑ ΣΥΛΛΟΓΩΝ\n",
      "12\n",
      "ΑΜΕ1\n",
      "13\n",
      "ΒΡΑΖΙΛΙΑ 1Η\n",
      "14\n",
      "ΚΟΡΙΤΙΜΠΑ\n",
      "15\n",
      "ΣΠΟΡΤΙΝΓΚ ΚΡΙΣΤΑΛ\n",
      "16\n",
      "ΦΛΑΜΕΝΓΚΟ\n",
      "17\n",
      "ΒΡΑΖΙΛΙΑ 1Η\n",
      "18\n",
      "ΣΑΟ ΠΑΟΛΟ\n",
      "19\n",
      "ΟΝΣΕ ΚΑΛΝΤΑΣ\n",
      "20\n",
      "ΚΟΛ1\n",
      "21\n",
      "ΗΠΑ\n",
      "22\n",
      "ΣΙΑΤΛ\n",
      "23\n",
      "ΑΜΕ1\n",
      "24\n",
      "ΛΟΣ ΑΝΤΖΕΛΕΣ\n",
      "25\n",
      "ΓΚΛΑΝΤΜΠΑΧ\n",
      "26\n",
      "ΔΙΕΘΝΕΙΣ ΔΙΟΡΓΑΝΩΣΕΙΣ\n",
      "27\n",
      "EUROPA LEAGUE, ΠΡΟΚΡΙΜΑΤΙΚΑ\n",
      "28\n",
      "ΞΑΝΘΗ\n",
      "29\n",
      "ΠΑΝΑΙΤΩΛΙΚΟΣ\n",
      "30\n",
      "EUL\n",
      "31\n",
      "ΕΛΣΙΝΚΙ\n",
      "32\n",
      "EUL\n",
      "33\n",
      "ΒΑΑΣΑ\n",
      "34\n",
      "EUROPA LEAGUE, ΠΡΟΚΡΙΜΑΤΙΚΑ\n",
      "35\n",
      "ΕΥΡΩΠΑΙΚΟ ΠΡΩΤΑΘΛΗΜΑ (Γ) ΟΜ.Α\n",
      "36\n",
      "ΕΣΘΟΝΙΑ\n",
      "37\n",
      "ΕΣΘΟΝΙΑ\n",
      "38\n",
      "ΔΙΕΘΝΕΙΣ ΔΙΟΡΓΑΝΩΣΕΙΣ\n",
      "39\n",
      "EUROPA LEAGUE, ΠΡΟΚΡΙΜΑΤΙΚΑ\n",
      "40\n",
      "ΟΝΤ\n",
      "41\n",
      "EUROPA LEAGUE, ΠΡΟΚΡΙΜΑΤΙΚΑ\n",
      "42\n",
      "ΖΑΡΙΑ ΜΠΑΛΤΙ\n",
      "43\n",
      "EUROPA LEAGUE, ΠΡΟΚΡΙΜΑΤΙΚΑ\n",
      "44\n",
      "ΔΙΕΘΝΕΙΣ ΔΙΟΡΓΑΝΩΣΕΙΣ\n",
      "45\n",
      "EUROPA LEAGUE, ΠΡΟΚΡΙΜΑΤΙΚΑ\n",
      "46\n",
      "EUROPA LEAGUE, ΠΡΟΚΡΙΜΑΤΙΚΑ\n",
      "47\n",
      "AEK ΛΑΡΝΑΚΑΣ\n",
      "48\n",
      "ΜΠΝΕΪ ΓΙΕΧΟΥΝΤΑ\n",
      "49\n",
      "ΔΦ\n",
      "50\n",
      "EUROPA LEAGUE, ΠΡΟΚΡΙΜΑΤΙΚΑ\n",
      "51\n",
      "ΟΥΤΡΕΧΤΗ\n",
      "52\n",
      "ΜΠΕΪΤΑΡ ΙΕΡΟΥΣΑΛΗΜ\n",
      "53\n",
      "ΦΟΛΑ ΕΣ\n",
      "54\n",
      "ΔΙΕΘΝΕΙΣ ΔΙΟΡΓΑΝΩΣΕΙΣ\n",
      "55\n",
      "EUROPA LEAGUE, ΠΡΟΚΡΙΜΑΤΙΚΑ\n",
      "56\n",
      "ΔΦ\n",
      "57\n",
      "ΠΡΟΓΚΡΕΣ ΝΙΕΝΤΕΡΚΟΡΝ\n",
      "58\n",
      "ΒΑΛΟΥΡ\n",
      "59\n",
      "ΧΑΟΥΓΚΕΣΟΥΝΤ\n",
      "60\n",
      "ΣΚΕΝΤΕΡ\n",
      "61\n",
      "ΠΑΝΑΘΗΝΑΪΚΟΣ\n",
      "62\n",
      "ΙΡΤΙΣ\n",
      "63\n",
      "ΓΙΑΓΚΕΛΟΝΙΑ\n",
      "64\n",
      "EUROPA LEAGUE, ΠΡΟΚΡΙΜΑΤΙΚΑ\n",
      "65\n",
      "ΔΦ\n",
      "66\n",
      "ΔΙΕΘΝΕΙΣ ΔΙΟΡΓΑΝΩΣΕΙΣ\n",
      "67\n",
      "ΑΜΠΕΡΝΤΙΝ\n",
      "68\n",
      "ΕΠΓ\n",
      "69\n",
      "ΔΙΕΘΝΕΙΣ ΔΙΟΡΓΑΝΩΣΕΙΣ\n",
      "70\n",
      "EUROPA LEAGUE, ΠΡΟΚΡΙΜΑΤΙΚΑ\n",
      "71\n",
      "ΚΡ ΡΕΪΚΙΑΒΙΚ\n",
      "72\n",
      "ΙΣΛΑΝΔΙΑ 2Η\n",
      "73\n",
      "ΦΙΛΚΙΡ\n",
      "74\n",
      "ΙΣΛΑΝΔΙΑ 2Η\n",
      "75\n",
      "ΔΦ\n"
     ]
    }
   ],
   "source": [
    "matches = []\n",
    "for i in range(len(json_data)):\n",
    "    lexicon_keys = json_data[i]['lexicon']['resources'].keys()\n",
    "    print(i)\n",
    "    lexicon = json_data[i]['lexicon']['resources']\n",
    "    champ = lexicon[lexicon_keys[2]]\n",
    "    print champ\n",
    "    home_team = lexicon[lexicon_keys[1]]\n",
    "    away_team = lexicon[lexicon_keys[3]]\n",
    "    team_names =  dict(champ=champ,home_team=home_team,away_team=away_team)['home_team']\n",
    "    matches.append(team_names)"
   ]
  },
  {
   "cell_type": "code",
   "execution_count": 43,
   "metadata": {
    "collapsed": false
   },
   "outputs": [
    {
     "name": "stdout",
     "output_type": "stream",
     "text": [
      "ΛΑ ΕΚΙΔΑΔ\n",
      "ΑΡΓΚ\n",
      "ΠΑΝΑΜΑΣ\n",
      "ΒΡΑ1\n",
      "ΒΡΑ1\n",
      "ΚΟΛ1\n",
      "ΦΙΛΑΔΕΛΦΕ\n",
      "ΑΜΕ1\n",
      "ΝΕΑ ΥΟΡΚΗ\n",
      "ΣΟΥΟΝΣΙ\n",
      "ΔΦ\n",
      "ΡΟΜΑ\n",
      "ΧΙΟΥΣΤΟΝ\n",
      "ΑΒΑΪ\n",
      "ΠΟΝΤΕ ΠΡ\n",
      "ΠΕΡΟΥ\n",
      "ΒΡΑ1\n",
      "ΒΡΑ1\n",
      "ΒΡΑ1\n",
      "ΚΟΛ1\n",
      "ΕΝΒΙΓΚΑΔΟ\n",
      "ΔΙΕΘΝΗ GOLD CUP\n",
      "ΑΜΕ1\n",
      "MLS\n",
      "ΑΜΕ1\n",
      "ΔΙΕΘΝΕΙΣ ΔΙΟΡΓΑΝΩΣΕΙΣ\n",
      "EUROPA LEAGUE, ΠΡΟΚΡΙΜΑΤΙΚΑ\n",
      "ΡΑΜΠΟΤΝΙΣΚΙ\n",
      "ΔΦ\n",
      "ΠΑΣ ΓΙΑΝΝ\n",
      "EUROPA LEAGUE, ΠΡΟΚΡΙΜΑΤΙΚΑ\n",
      "EUROPA LEAGUE, ΠΡΟΚΡΙΜΑΤΙΚΑ\n",
      "ΔΙΕΘΝΕΙΣ ΔΙΟΡΓΑΝΩΣΕΙΣ\n",
      "ΒΑΑΣΑ\n",
      "ΛΙΕΠΑΓΙΑ\n",
      "ΒΕΛΓΙΟ\n",
      "ΚΟΥΡΕΣΑΡΕ\n",
      "ΣΑΝΤΟΣ\n",
      "ΔΦ\n",
      "ΑΛΤΑΧ\n",
      "ΟΝΤ\n",
      "ΜΙΝΤΙΛΑΝΤ\n",
      "EUROPA LEAGUE, ΠΡΟΚΡΙΜΑΤΙΚΑ\n",
      "ΖΙΡΑ\n",
      "EUROPA LEAGUE, ΠΡΟΚΡΙΜΑΤΙΚΑ\n",
      "EUL\n",
      "ΑΪΚ ΣΤΟΚΧΟΛΜΗΣ\n",
      "EUROPA LEAGUE, ΠΡΟΚΡΙΜΑΤΙΚΑ\n",
      "ΤΡΕΝΤΣΙΝ\n",
      "ΦΟΥΛΑΜ\n",
      "ΓΑΛΑΤΑ\n",
      "ΟΥΤΡΕΧΤΗ\n",
      "ΜΠΕΪΤΑΡ ΙΕΡΟΥΣΑΛΗΜ\n",
      "ΦΟΛΑ ΕΣ\n",
      "AΛΜΙΡΕ ΣΙΤΙ\n",
      "ΟΣΙΓΙΕΚ\n",
      "ΣΠΑΡΤΑ Π.\n",
      "EUROPA LEAGUE, ΠΡΟΚΡΙΜΑΤΙΚΑ\n",
      "EUL\n",
      "ΛΕΧ ΠΟΖΝΑΝ\n",
      "EUROPA LEAGUE, ΠΡΟΚΡΙΜΑΤΙΚΑ\n",
      "ΔΙΕΘΝΗ ΦΙΛΙΚΑ ΣΥΛΛΟΓΩΝ...\n",
      "EUROPA LEAGUE, ΠΡΟΚΡΙΜΑΤΙΚΑ\n",
      "EUROPA LEAGUE, ΠΡΟΚΡΙΜΑΤΙΚΑ\n",
      "ΜΛΑΝΤΟΣΤ  ΠΟΝΤΓΚΟΡΙΚΑ\n",
      "ΓΚΡΙΜΣΜΠΙ\n",
      "EUL\n",
      "EUROPA LEAGUE, ΠΡΟΚΡΙΜΑΤΙΚΑ\n",
      "ΟΛΛΑΝΔΙΑ (Γ)\n",
      "ΔΦ\n",
      "ΒΙΝΤΕΟΤΟΝ\n",
      "EUROPA LEAGUE, ΠΡΟΚΡΙΜΑΤΙΚΑ\n",
      "ΦΡΑΜ ΡΕΪΚΙΑΒΙΚ\n",
      "ΙΣΛΑΝΔΙΑ 2Η\n",
      "ΚΟΠΑΒΟΓΚΟΥΡ\n",
      "ΜΠΕΝΦΙΚΑ\n"
     ]
    }
   ],
   "source": [
    "for m in matches: print m"
   ]
  },
  {
   "cell_type": "code",
   "execution_count": 38,
   "metadata": {
    "collapsed": false
   },
   "outputs": [],
   "source": []
  },
  {
   "cell_type": "code",
   "execution_count": null,
   "metadata": {
    "collapsed": true
   },
   "outputs": [],
   "source": []
  }
 ],
 "metadata": {
  "kernelspec": {
   "display_name": "Python 2",
   "language": "python",
   "name": "python2"
  },
  "language_info": {
   "codemirror_mode": {
    "name": "ipython",
    "version": 2
   },
   "file_extension": ".py",
   "mimetype": "text/x-python",
   "name": "python",
   "nbconvert_exporter": "python",
   "pygments_lexer": "ipython2",
   "version": "2.7.12"
  }
 },
 "nbformat": 4,
 "nbformat_minor": 2
}
